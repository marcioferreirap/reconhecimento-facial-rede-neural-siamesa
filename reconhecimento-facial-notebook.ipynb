{
 "cells": [
  {
   "cell_type": "markdown",
   "source": [
    "# Siamese Neural Networks for One-shot Image Recognition\n",
    "Atividade de deep learning baseada no tutorial\n",
    "\n",
    "https://www.youtube.com/watch?v=LKispFFQ5GU\n",
    "por Nicholas Renotte"
   ],
   "metadata": {
    "collapsed": false
   }
  },
  {
   "cell_type": "markdown",
   "source": [
    "# 1. Configuração inicial"
   ],
   "metadata": {
    "collapsed": false
   }
  },
  {
   "cell_type": "markdown",
   "metadata": {},
   "source": [
    "## 1.1 Instalando dependências"
   ]
  },
  {
   "cell_type": "code",
   "execution_count": 2,
   "metadata": {},
   "outputs": [
    {
     "name": "stdout",
     "output_type": "stream",
     "text": [
      "Requirement already satisfied: tensorflow==2.4.1 in c:\\projects\\ufcg\\reconhecimento-facial\\venv\\lib\\site-packages (2.4.1)\n",
      "Requirement already satisfied: tensorflow-gpu==2.4.1 in c:\\projects\\ufcg\\reconhecimento-facial\\venv\\lib\\site-packages (2.4.1)\n",
      "Requirement already satisfied: opencv-python in c:\\projects\\ufcg\\reconhecimento-facial\\venv\\lib\\site-packages (4.6.0.66)\n",
      "Requirement already satisfied: matplotlib in c:\\projects\\ufcg\\reconhecimento-facial\\venv\\lib\\site-packages (3.6.2)\n",
      "Requirement already satisfied: h5py~=2.10.0 in c:\\projects\\ufcg\\reconhecimento-facial\\venv\\lib\\site-packages (from tensorflow==2.4.1) (2.10.0)\n",
      "Requirement already satisfied: grpcio~=1.32.0 in c:\\projects\\ufcg\\reconhecimento-facial\\venv\\lib\\site-packages (from tensorflow==2.4.1) (1.32.0)\n",
      "Requirement already satisfied: google-pasta~=0.2 in c:\\projects\\ufcg\\reconhecimento-facial\\venv\\lib\\site-packages (from tensorflow==2.4.1) (0.2.0)\n",
      "Requirement already satisfied: tensorflow-estimator<2.5.0,>=2.4.0 in c:\\projects\\ufcg\\reconhecimento-facial\\venv\\lib\\site-packages (from tensorflow==2.4.1) (2.4.0)\n",
      "Requirement already satisfied: flatbuffers~=1.12.0 in c:\\projects\\ufcg\\reconhecimento-facial\\venv\\lib\\site-packages (from tensorflow==2.4.1) (1.12)\n",
      "Requirement already satisfied: astunparse~=1.6.3 in c:\\projects\\ufcg\\reconhecimento-facial\\venv\\lib\\site-packages (from tensorflow==2.4.1) (1.6.3)\n",
      "Requirement already satisfied: absl-py~=0.10 in c:\\projects\\ufcg\\reconhecimento-facial\\venv\\lib\\site-packages (from tensorflow==2.4.1) (0.15.0)\n",
      "Requirement already satisfied: numpy~=1.19.2 in c:\\projects\\ufcg\\reconhecimento-facial\\venv\\lib\\site-packages (from tensorflow==2.4.1) (1.19.5)\n",
      "Requirement already satisfied: opt-einsum~=3.3.0 in c:\\projects\\ufcg\\reconhecimento-facial\\venv\\lib\\site-packages (from tensorflow==2.4.1) (3.3.0)\n",
      "Requirement already satisfied: protobuf>=3.9.2 in c:\\projects\\ufcg\\reconhecimento-facial\\venv\\lib\\site-packages (from tensorflow==2.4.1) (3.20.3)\n",
      "Requirement already satisfied: tensorboard~=2.4 in c:\\projects\\ufcg\\reconhecimento-facial\\venv\\lib\\site-packages (from tensorflow==2.4.1) (2.11.0)\n",
      "Requirement already satisfied: gast==0.3.3 in c:\\projects\\ufcg\\reconhecimento-facial\\venv\\lib\\site-packages (from tensorflow==2.4.1) (0.3.3)\n",
      "Requirement already satisfied: typing-extensions~=3.7.4 in c:\\projects\\ufcg\\reconhecimento-facial\\venv\\lib\\site-packages (from tensorflow==2.4.1) (3.7.4.3)\n",
      "Requirement already satisfied: six~=1.15.0 in c:\\projects\\ufcg\\reconhecimento-facial\\venv\\lib\\site-packages (from tensorflow==2.4.1) (1.15.0)\n",
      "Requirement already satisfied: keras-preprocessing~=1.1.2 in c:\\projects\\ufcg\\reconhecimento-facial\\venv\\lib\\site-packages (from tensorflow==2.4.1) (1.1.2)\n",
      "Requirement already satisfied: wheel~=0.35 in c:\\projects\\ufcg\\reconhecimento-facial\\venv\\lib\\site-packages (from tensorflow==2.4.1) (0.38.4)\n",
      "Requirement already satisfied: wrapt~=1.12.1 in c:\\projects\\ufcg\\reconhecimento-facial\\venv\\lib\\site-packages (from tensorflow==2.4.1) (1.12.1)\n",
      "Requirement already satisfied: termcolor~=1.1.0 in c:\\projects\\ufcg\\reconhecimento-facial\\venv\\lib\\site-packages (from tensorflow==2.4.1) (1.1.0)\n",
      "Requirement already satisfied: contourpy>=1.0.1 in c:\\projects\\ufcg\\reconhecimento-facial\\venv\\lib\\site-packages (from matplotlib) (1.0.6)\n",
      "Requirement already satisfied: pyparsing>=2.2.1 in c:\\projects\\ufcg\\reconhecimento-facial\\venv\\lib\\site-packages (from matplotlib) (3.0.9)\n",
      "Requirement already satisfied: pillow>=6.2.0 in c:\\projects\\ufcg\\reconhecimento-facial\\venv\\lib\\site-packages (from matplotlib) (9.3.0)\n",
      "Requirement already satisfied: python-dateutil>=2.7 in c:\\projects\\ufcg\\reconhecimento-facial\\venv\\lib\\site-packages (from matplotlib) (2.8.2)\n",
      "Requirement already satisfied: kiwisolver>=1.0.1 in c:\\projects\\ufcg\\reconhecimento-facial\\venv\\lib\\site-packages (from matplotlib) (1.4.4)\n",
      "Requirement already satisfied: cycler>=0.10 in c:\\projects\\ufcg\\reconhecimento-facial\\venv\\lib\\site-packages (from matplotlib) (0.11.0)\n",
      "Requirement already satisfied: fonttools>=4.22.0 in c:\\projects\\ufcg\\reconhecimento-facial\\venv\\lib\\site-packages (from matplotlib) (4.38.0)\n",
      "Requirement already satisfied: packaging>=20.0 in c:\\projects\\ufcg\\reconhecimento-facial\\venv\\lib\\site-packages (from matplotlib) (21.3)\n",
      "Requirement already satisfied: tensorboard-data-server<0.7.0,>=0.6.0 in c:\\projects\\ufcg\\reconhecimento-facial\\venv\\lib\\site-packages (from tensorboard~=2.4->tensorflow==2.4.1) (0.6.1)\n",
      "Requirement already satisfied: google-auth<3,>=1.6.3 in c:\\projects\\ufcg\\reconhecimento-facial\\venv\\lib\\site-packages (from tensorboard~=2.4->tensorflow==2.4.1) (2.14.1)\n",
      "Requirement already satisfied: google-auth-oauthlib<0.5,>=0.4.1 in c:\\projects\\ufcg\\reconhecimento-facial\\venv\\lib\\site-packages (from tensorboard~=2.4->tensorflow==2.4.1) (0.4.6)\n",
      "Requirement already satisfied: setuptools>=41.0.0 in c:\\projects\\ufcg\\reconhecimento-facial\\venv\\lib\\site-packages (from tensorboard~=2.4->tensorflow==2.4.1) (49.2.1)\n",
      "Requirement already satisfied: tensorboard-plugin-wit>=1.6.0 in c:\\projects\\ufcg\\reconhecimento-facial\\venv\\lib\\site-packages (from tensorboard~=2.4->tensorflow==2.4.1) (1.8.1)\n",
      "Requirement already satisfied: werkzeug>=1.0.1 in c:\\projects\\ufcg\\reconhecimento-facial\\venv\\lib\\site-packages (from tensorboard~=2.4->tensorflow==2.4.1) (2.2.2)\n",
      "Requirement already satisfied: requests<3,>=2.21.0 in c:\\projects\\ufcg\\reconhecimento-facial\\venv\\lib\\site-packages (from tensorboard~=2.4->tensorflow==2.4.1) (2.28.1)\n",
      "Requirement already satisfied: markdown>=2.6.8 in c:\\projects\\ufcg\\reconhecimento-facial\\venv\\lib\\site-packages (from tensorboard~=2.4->tensorflow==2.4.1) (3.4.1)\n",
      "Requirement already satisfied: rsa<5,>=3.1.4 in c:\\projects\\ufcg\\reconhecimento-facial\\venv\\lib\\site-packages (from google-auth<3,>=1.6.3->tensorboard~=2.4->tensorflow==2.4.1) (4.9)\n",
      "Requirement already satisfied: pyasn1-modules>=0.2.1 in c:\\projects\\ufcg\\reconhecimento-facial\\venv\\lib\\site-packages (from google-auth<3,>=1.6.3->tensorboard~=2.4->tensorflow==2.4.1) (0.2.8)\n",
      "Requirement already satisfied: cachetools<6.0,>=2.0.0 in c:\\projects\\ufcg\\reconhecimento-facial\\venv\\lib\\site-packages (from google-auth<3,>=1.6.3->tensorboard~=2.4->tensorflow==2.4.1) (5.2.0)\n",
      "Requirement already satisfied: requests-oauthlib>=0.7.0 in c:\\projects\\ufcg\\reconhecimento-facial\\venv\\lib\\site-packages (from google-auth-oauthlib<0.5,>=0.4.1->tensorboard~=2.4->tensorflow==2.4.1) (1.3.1)\n",
      "Requirement already satisfied: importlib-metadata>=4.4 in c:\\projects\\ufcg\\reconhecimento-facial\\venv\\lib\\site-packages (from markdown>=2.6.8->tensorboard~=2.4->tensorflow==2.4.1) (5.1.0)\n",
      "Requirement already satisfied: urllib3<1.27,>=1.21.1 in c:\\projects\\ufcg\\reconhecimento-facial\\venv\\lib\\site-packages (from requests<3,>=2.21.0->tensorboard~=2.4->tensorflow==2.4.1) (1.26.13)\n",
      "Requirement already satisfied: certifi>=2017.4.17 in c:\\projects\\ufcg\\reconhecimento-facial\\venv\\lib\\site-packages (from requests<3,>=2.21.0->tensorboard~=2.4->tensorflow==2.4.1) (2022.9.24)\n",
      "Requirement already satisfied: idna<4,>=2.5 in c:\\projects\\ufcg\\reconhecimento-facial\\venv\\lib\\site-packages (from requests<3,>=2.21.0->tensorboard~=2.4->tensorflow==2.4.1) (3.4)\n",
      "Requirement already satisfied: charset-normalizer<3,>=2 in c:\\projects\\ufcg\\reconhecimento-facial\\venv\\lib\\site-packages (from requests<3,>=2.21.0->tensorboard~=2.4->tensorflow==2.4.1) (2.1.1)\n",
      "Requirement already satisfied: MarkupSafe>=2.1.1 in c:\\projects\\ufcg\\reconhecimento-facial\\venv\\lib\\site-packages (from werkzeug>=1.0.1->tensorboard~=2.4->tensorflow==2.4.1) (2.1.1)\n",
      "Requirement already satisfied: zipp>=0.5 in c:\\projects\\ufcg\\reconhecimento-facial\\venv\\lib\\site-packages (from importlib-metadata>=4.4->markdown>=2.6.8->tensorboard~=2.4->tensorflow==2.4.1) (3.11.0)\n",
      "Requirement already satisfied: pyasn1<0.5.0,>=0.4.6 in c:\\projects\\ufcg\\reconhecimento-facial\\venv\\lib\\site-packages (from pyasn1-modules>=0.2.1->google-auth<3,>=1.6.3->tensorboard~=2.4->tensorflow==2.4.1) (0.4.8)\n",
      "Requirement already satisfied: oauthlib>=3.0.0 in c:\\projects\\ufcg\\reconhecimento-facial\\venv\\lib\\site-packages (from requests-oauthlib>=0.7.0->google-auth-oauthlib<0.5,>=0.4.1->tensorboard~=2.4->tensorflow==2.4.1) (3.2.2)\n"
     ]
    }
   ],
   "source": [
    "!pip install tensorflow==2.4.1 tensorflow-gpu==2.4.1 opencv-python matplotlib"
   ]
  },
  {
   "cell_type": "markdown",
   "metadata": {},
   "source": [
    "## 1.2 Importando as dependências"
   ]
  },
  {
   "cell_type": "code",
   "execution_count": 3,
   "metadata": {},
   "outputs": [],
   "source": [
    "# Importando as dependências padrão\n",
    "import cv2\n",
    "import os\n",
    "import random\n",
    "import numpy as np\n",
    "from matplotlib import pyplot as plt"
   ]
  },
  {
   "cell_type": "code",
   "execution_count": 4,
   "metadata": {},
   "outputs": [],
   "source": [
    "# Importando as dependências do tensorflow - Functional API\n",
    "from tensorflow.keras.models import Model\n",
    "from tensorflow.keras.layers import Layer, Conv2D, Dense, MaxPooling2D, Input, Flatten\n",
    "import tensorflow as tf"
   ]
  },
  {
   "cell_type": "markdown",
   "metadata": {},
   "source": [
    "## 1.3 Configurando GPU Growth"
   ]
  },
  {
   "cell_type": "code",
   "execution_count": 5,
   "metadata": {},
   "outputs": [],
   "source": [
    "# Evita erros OOM configurando consumo de GPU\n",
    "gpus = tf.config.experimental.list_physical_devices('GPU')\n",
    "for gpu in gpus: \n",
    "    tf.config.experimental.set_memory_growth(gpu, True)"
   ]
  },
  {
   "cell_type": "markdown",
   "metadata": {},
   "source": [
    "## 1.4 Criação das estruturas de pasta"
   ]
  },
  {
   "cell_type": "code",
   "execution_count": 8,
   "metadata": {},
   "outputs": [],
   "source": [
    "# Configurando os diretórios\n",
    "POS_PATH = os.path.join('data', 'positive')\n",
    "NEG_PATH = os.path.join('data', 'negative')\n",
    "ANC_PATH = os.path.join('data', 'anchor')"
   ]
  },
  {
   "cell_type": "code",
   "execution_count": 9,
   "metadata": {},
   "outputs": [],
   "source": [
    "# Criando os diretórios\n",
    "os.makedirs(POS_PATH)\n",
    "os.makedirs(NEG_PATH)\n",
    "os.makedirs(ANC_PATH)"
   ]
  },
  {
   "cell_type": "markdown",
   "source": [
    "A Parte 1, trata-se apenas das configurações iniciais, importação das bibliotecas mais importantes."
   ],
   "metadata": {
    "collapsed": false
   }
  },
  {
   "cell_type": "markdown",
   "metadata": {},
   "source": [
    "# 2. Coleta as imagens positivas e âncoras (entradas)"
   ]
  },
  {
   "cell_type": "markdown",
   "metadata": {},
   "source": [
    "## 2.1 Descomprimindo o arquivo baixado de rostos com rótulos"
   ]
  },
  {
   "cell_type": "code",
   "execution_count": null,
   "metadata": {},
   "outputs": [],
   "source": [
    "# http://vis-www.cs.umass.edu/lfw/\n",
    "# Fazer download e jogar na raiz do projeto"
   ]
  },
  {
   "cell_type": "code",
   "execution_count": 10,
   "metadata": {},
   "outputs": [],
   "source": [
    "# Descompacte os rotos rotulados do Tar GZ no conjunto de dados\n",
    "!tar -xf lfw.tgz"
   ]
  },
  {
   "cell_type": "code",
   "execution_count": 11,
   "metadata": {},
   "outputs": [],
   "source": [
    "# Movendo as imagens do lfw para data/negative\n",
    "for directory in os.listdir('lfw'):\n",
    "    for file in os.listdir(os.path.join('lfw', directory)):\n",
    "        EX_PATH = os.path.join('lfw', directory, file)\n",
    "        NEW_PATH = os.path.join(NEG_PATH, file)\n",
    "        os.replace(EX_PATH, NEW_PATH)"
   ]
  },
  {
   "cell_type": "markdown",
   "metadata": {},
   "source": [
    "## 2.2 Coleta as imagens positivas e âncoras (input)"
   ]
  },
  {
   "cell_type": "code",
   "execution_count": 12,
   "metadata": {},
   "outputs": [],
   "source": [
    "# Importa a biblioteca uuid para gerar nomes de imagens únicos\n",
    "import uuid"
   ]
  },
  {
   "cell_type": "code",
   "execution_count": 13,
   "metadata": {},
   "outputs": [
    {
     "data": {
      "text/plain": "'data\\\\anchor\\\\c593476c-725e-11ed-9b95-5ccd5bfa1b4d.jpg'"
     },
     "execution_count": 13,
     "metadata": {},
     "output_type": "execute_result"
    }
   ],
   "source": [
    "os.path.join(ANC_PATH, '{}.jpg'.format(uuid.uuid1()))"
   ]
  },
  {
   "cell_type": "code",
   "execution_count": 14,
   "metadata": {},
   "outputs": [],
   "source": [
    "# Conecta com a webcam cv2.VideoCapture(X) onde X é o dispositivo\n",
    "cap = cv2.VideoCapture(0)\n",
    "while cap.isOpened(): \n",
    "    ret, frame = cap.read()\n",
    "   \n",
    "    # Corta o frame da câmera para 250x250px\n",
    "    frame = frame[120:120+250,200:200+250, :]\n",
    "    \n",
    "    # Coleta âncoras\n",
    "    if cv2.waitKey(1) & 0XFF == ord('a'):\n",
    "        # cria um caminho único\n",
    "        imgname = os.path.join(ANC_PATH, '{}.jpg'.format(uuid.uuid1()))\n",
    "        # Write out anchor image\n",
    "        cv2.imwrite(imgname, frame)\n",
    "    \n",
    "    # Collect positives\n",
    "    if cv2.waitKey(1) & 0XFF == ord('p'):\n",
    "        # Create the unique file path \n",
    "        imgname = os.path.join(POS_PATH, '{}.jpg'.format(uuid.uuid1()))\n",
    "        # Grava as imagens positivas\n",
    "        cv2.imwrite(imgname, frame)\n",
    "    \n",
    "    # Mostra a janela de captura\n",
    "    cv2.imshow('Image Collection', frame)\n",
    "    \n",
    "    # apertar q para sair\n",
    "    if cv2.waitKey(1) & 0XFF == ord('q'):\n",
    "        break\n",
    "        \n",
    "# devolve o uso da câmera\n",
    "cap.release()\n",
    "# fecha a caixa de captura\n",
    "cv2.destroyAllWindows()"
   ]
  },
  {
   "cell_type": "markdown",
   "source": [
    "Até esse ponto, foram realizados duas etapas principais 1) Baixar um conjunto de dados de outras pessoas 2) realizar a captura via webcam"
   ],
   "metadata": {
    "collapsed": false
   }
  },
  {
   "cell_type": "markdown",
   "metadata": {},
   "source": [
    "# 3. Carrega e pré processa imagens"
   ]
  },
  {
   "cell_type": "markdown",
   "metadata": {},
   "source": [
    "## 3.1 Cria variáveis para as pastas"
   ]
  },
  {
   "cell_type": "code",
   "execution_count": 18,
   "metadata": {},
   "outputs": [],
   "source": [
    "anchor = tf.data.Dataset.list_files(ANC_PATH+'\\*.jpg').take(300)\n",
    "positive = tf.data.Dataset.list_files(POS_PATH+'\\*.jpg').take(300)\n",
    "negative = tf.data.Dataset.list_files(NEG_PATH+'\\*.jpg').take(300)"
   ]
  },
  {
   "cell_type": "code",
   "execution_count": 19,
   "metadata": {},
   "outputs": [],
   "source": [
    "dir_test = anchor.as_numpy_iterator()"
   ]
  },
  {
   "cell_type": "code",
   "execution_count": 20,
   "metadata": {},
   "outputs": [
    {
     "name": "stdout",
     "output_type": "stream",
     "text": [
      "b'data\\\\anchor\\\\fe3ff72c-725e-11ed-9589-5ccd5bfa1b4d.jpg'\n"
     ]
    }
   ],
   "source": [
    "print(dir_test.next())"
   ]
  },
  {
   "cell_type": "markdown",
   "metadata": {},
   "source": [
    "## 3.2 Pré processamento - Redimensionamento"
   ]
  },
  {
   "cell_type": "code",
   "execution_count": 21,
   "metadata": {},
   "outputs": [],
   "source": [
    "def preprocess(file_path):\n",
    "    \n",
    "    # Lê a imagem de um caminho\n",
    "    byte_img = tf.io.read_file(file_path)\n",
    "    # carrega\n",
    "    img = tf.io.decode_jpeg(byte_img)\n",
    "    \n",
    "    # redimensiona imagem para 100x100x3\n",
    "    img = tf.image.resize(img, (100,100))\n",
    "    # Muda a escala da imagem para que fique entre 0 e 1\n",
    "    img = img / 255.0\n",
    "\n",
    "    # Returna a imagem\n",
    "    return img"
   ]
  },
  {
   "cell_type": "code",
   "execution_count": 22,
   "metadata": {
    "scrolled": true,
    "tags": []
   },
   "outputs": [],
   "source": [
    "img = preprocess('data\\\\anchor\\\\fe3ff72c-725e-11ed-9589-5ccd5bfa1b4d.jpg')"
   ]
  },
  {
   "cell_type": "code",
   "execution_count": 23,
   "metadata": {},
   "outputs": [
    {
     "data": {
      "text/plain": "0.94534314"
     },
     "execution_count": 23,
     "metadata": {},
     "output_type": "execute_result"
    }
   ],
   "source": [
    "img.numpy().max()"
   ]
  },
  {
   "cell_type": "code",
   "execution_count": 24,
   "outputs": [
    {
     "data": {
      "text/plain": "<matplotlib.image.AxesImage at 0x1c69cf06280>"
     },
     "execution_count": 24,
     "metadata": {},
     "output_type": "execute_result"
    },
    {
     "data": {
      "text/plain": "<Figure size 640x480 with 1 Axes>",
      "image/png": "[encoded data removed]"
     },
     "metadata": {},
     "output_type": "display_data"
    }
   ],
   "source": [
    "plt.imshow(img)"
   ],
   "metadata": {
    "collapsed": false
   }
  },
  {
   "cell_type": "markdown",
   "metadata": {},
   "source": [
    "## 3.3 Cria um conjunto de dados rotulados"
   ]
  },
  {
   "cell_type": "code",
   "execution_count": 25,
   "metadata": {},
   "outputs": [],
   "source": [
    "positives = tf.data.Dataset.zip((anchor, positive, tf.data.Dataset.from_tensor_slices(tf.ones(len(anchor)))))\n",
    "negatives = tf.data.Dataset.zip((anchor, negative, tf.data.Dataset.from_tensor_slices(tf.zeros(len(anchor)))))\n",
    "data = positives.concatenate(negatives)"
   ]
  },
  {
   "cell_type": "code",
   "execution_count": 26,
   "outputs": [
    {
     "data": {
      "text/plain": "<tf.Tensor: shape=(300,), dtype=float32, numpy=\narray([1., 1., 1., 1., 1., 1., 1., 1., 1., 1., 1., 1., 1., 1., 1., 1., 1.,\n       1., 1., 1., 1., 1., 1., 1., 1., 1., 1., 1., 1., 1., 1., 1., 1., 1.,\n       1., 1., 1., 1., 1., 1., 1., 1., 1., 1., 1., 1., 1., 1., 1., 1., 1.,\n       1., 1., 1., 1., 1., 1., 1., 1., 1., 1., 1., 1., 1., 1., 1., 1., 1.,\n       1., 1., 1., 1., 1., 1., 1., 1., 1., 1., 1., 1., 1., 1., 1., 1., 1.,\n       1., 1., 1., 1., 1., 1., 1., 1., 1., 1., 1., 1., 1., 1., 1., 1., 1.,\n       1., 1., 1., 1., 1., 1., 1., 1., 1., 1., 1., 1., 1., 1., 1., 1., 1.,\n       1., 1., 1., 1., 1., 1., 1., 1., 1., 1., 1., 1., 1., 1., 1., 1., 1.,\n       1., 1., 1., 1., 1., 1., 1., 1., 1., 1., 1., 1., 1., 1., 1., 1., 1.,\n       1., 1., 1., 1., 1., 1., 1., 1., 1., 1., 1., 1., 1., 1., 1., 1., 1.,\n       1., 1., 1., 1., 1., 1., 1., 1., 1., 1., 1., 1., 1., 1., 1., 1., 1.,\n       1., 1., 1., 1., 1., 1., 1., 1., 1., 1., 1., 1., 1., 1., 1., 1., 1.,\n       1., 1., 1., 1., 1., 1., 1., 1., 1., 1., 1., 1., 1., 1., 1., 1., 1.,\n       1., 1., 1., 1., 1., 1., 1., 1., 1., 1., 1., 1., 1., 1., 1., 1., 1.,\n       1., 1., 1., 1., 1., 1., 1., 1., 1., 1., 1., 1., 1., 1., 1., 1., 1.,\n       1., 1., 1., 1., 1., 1., 1., 1., 1., 1., 1., 1., 1., 1., 1., 1., 1.,\n       1., 1., 1., 1., 1., 1., 1., 1., 1., 1., 1., 1., 1., 1., 1., 1., 1.,\n       1., 1., 1., 1., 1., 1., 1., 1., 1., 1., 1.], dtype=float32)>"
     },
     "execution_count": 26,
     "metadata": {},
     "output_type": "execute_result"
    }
   ],
   "source": [
    "tf.ones(len(anchor))"
   ],
   "metadata": {
    "collapsed": false
   }
  },
  {
   "cell_type": "code",
   "execution_count": 27,
   "outputs": [
    {
     "data": {
      "text/plain": "<ConcatenateDataset shapes: ((), (), ()), types: (tf.string, tf.string, tf.float32)>"
     },
     "execution_count": 27,
     "metadata": {},
     "output_type": "execute_result"
    }
   ],
   "source": [
    "data"
   ],
   "metadata": {
    "collapsed": false
   }
  },
  {
   "cell_type": "code",
   "execution_count": 28,
   "metadata": {},
   "outputs": [],
   "source": [
    "samples = data.as_numpy_iterator()"
   ]
  },
  {
   "cell_type": "code",
   "execution_count": 29,
   "metadata": {},
   "outputs": [],
   "source": [
    "exampple = samples.next()"
   ]
  },
  {
   "cell_type": "code",
   "execution_count": 30,
   "metadata": {
    "tags": []
   },
   "outputs": [
    {
     "data": {
      "text/plain": "(b'data\\\\anchor\\\\ff589928-725e-11ed-a06d-5ccd5bfa1b4d.jpg',\n b'data\\\\positive\\\\1e6e6eaa-725f-11ed-8f9f-5ccd5bfa1b4d.jpg',\n 1.0)"
     },
     "execution_count": 30,
     "metadata": {},
     "output_type": "execute_result"
    }
   ],
   "source": [
    "exampple"
   ]
  },
  {
   "cell_type": "markdown",
   "metadata": {},
   "source": [
    "## 3.4 Compila a partição de treino e teste"
   ]
  },
  {
   "cell_type": "code",
   "execution_count": 31,
   "metadata": {},
   "outputs": [],
   "source": [
    "def preprocess_twin(input_img, validation_img, label):\n",
    "    return(preprocess(input_img), preprocess(validation_img), label)"
   ]
  },
  {
   "cell_type": "code",
   "execution_count": 32,
   "metadata": {},
   "outputs": [],
   "source": [
    "res = preprocess_twin(*exampple)"
   ]
  },
  {
   "cell_type": "code",
   "execution_count": 37,
   "metadata": {},
   "outputs": [
    {
     "data": {
      "text/plain": "<matplotlib.image.AxesImage at 0x1c69e0dd910>"
     },
     "execution_count": 37,
     "metadata": {},
     "output_type": "execute_result"
    },
    {
     "data": {
      "text/plain": "<Figure size 640x480 with 1 Axes>",
      "image/png": "[encoded data removed]"
     },
     "metadata": {},
     "output_type": "display_data"
    }
   ],
   "source": [
    "plt.imshow(res[1])"
   ]
  },
  {
   "cell_type": "code",
   "execution_count": 39,
   "metadata": {},
   "outputs": [
    {
     "data": {
      "text/plain": "1.0"
     },
     "execution_count": 39,
     "metadata": {},
     "output_type": "execute_result"
    }
   ],
   "source": [
    "res[2]"
   ]
  },
  {
   "cell_type": "code",
   "execution_count": 40,
   "metadata": {},
   "outputs": [],
   "source": [
    "# Compila dataloader pipeline\n",
    "data = data.map(preprocess_twin)\n",
    "data = data.cache()\n",
    "data = data.shuffle(buffer_size=10000)"
   ]
  },
  {
   "cell_type": "code",
   "execution_count": 41,
   "metadata": {},
   "outputs": [],
   "source": [
    "# Partição de treino\n",
    "train_data = data.take(round(len(data)*.7))\n",
    "train_data = train_data.batch(16)\n",
    "train_data = train_data.prefetch(8)"
   ]
  },
  {
   "cell_type": "code",
   "execution_count": 42,
   "metadata": {},
   "outputs": [],
   "source": [
    "# Partição de teste\n",
    "test_data = data.skip(round(len(data)*.7))\n",
    "test_data = test_data.take(round(len(data)*.3))\n",
    "test_data = test_data.batch(16)\n",
    "test_data = test_data.prefetch(8)"
   ]
  },
  {
   "cell_type": "markdown",
   "source": [
    "Até esse ponto, foram carregadas as imagens para o tensorflow dataloader e criado as labels para o dataset"
   ],
   "metadata": {
    "collapsed": false
   }
  },
  {
   "cell_type": "markdown",
   "metadata": {},
   "source": [
    "# 4. Modelo"
   ]
  },
  {
   "cell_type": "markdown",
   "metadata": {},
   "source": [
    "## 4.1 Compilando a Embedding Layer"
   ]
  },
  {
   "cell_type": "code",
   "execution_count": 43,
   "metadata": {},
   "outputs": [],
   "source": [
    "inp = Input(shape=(100,100,3), name='input_image')"
   ]
  },
  {
   "cell_type": "code",
   "execution_count": 44,
   "metadata": {},
   "outputs": [],
   "source": [
    "c1 = Conv2D(64, (10,10), activation='relu')(inp)"
   ]
  },
  {
   "cell_type": "code",
   "execution_count": 45,
   "metadata": {},
   "outputs": [],
   "source": [
    "m1 = MaxPooling2D(64, (2,2), padding='same')(c1)"
   ]
  },
  {
   "cell_type": "code",
   "execution_count": 46,
   "metadata": {},
   "outputs": [],
   "source": [
    "c2 = Conv2D(128, (7,7), activation='relu')(m1)\n",
    "m2 = MaxPooling2D(64, (2,2), padding='same')(c2)"
   ]
  },
  {
   "cell_type": "code",
   "execution_count": 47,
   "metadata": {},
   "outputs": [],
   "source": [
    "c3 = Conv2D(128, (4,4), activation='relu')(m2)\n",
    "m3 = MaxPooling2D(64, (2,2), padding='same')(c3)"
   ]
  },
  {
   "cell_type": "code",
   "execution_count": 48,
   "metadata": {},
   "outputs": [],
   "source": [
    "c4 = Conv2D(256, (4,4), activation='relu')(m3)\n",
    "f1 = Flatten()(c4)\n",
    "d1 = Dense(4096, activation='sigmoid')(f1)"
   ]
  },
  {
   "cell_type": "code",
   "execution_count": 49,
   "metadata": {},
   "outputs": [],
   "source": [
    "mod = Model(inputs=[inp], outputs=[d1], name='embedding')"
   ]
  },
  {
   "cell_type": "code",
   "execution_count": 50,
   "metadata": {},
   "outputs": [
    {
     "name": "stdout",
     "output_type": "stream",
     "text": [
      "Model: \"embedding\"\n",
      "_________________________________________________________________\n",
      "Layer (type)                 Output Shape              Param #   \n",
      "=================================================================\n",
      "input_image (InputLayer)     [(None, 100, 100, 3)]     0         \n",
      "_________________________________________________________________\n",
      "conv2d (Conv2D)              (None, 91, 91, 64)        19264     \n",
      "_________________________________________________________________\n",
      "max_pooling2d (MaxPooling2D) (None, 46, 46, 64)        0         \n",
      "_________________________________________________________________\n",
      "conv2d_1 (Conv2D)            (None, 40, 40, 128)       401536    \n",
      "_________________________________________________________________\n",
      "max_pooling2d_1 (MaxPooling2 (None, 20, 20, 128)       0         \n",
      "_________________________________________________________________\n",
      "conv2d_2 (Conv2D)            (None, 17, 17, 128)       262272    \n",
      "_________________________________________________________________\n",
      "max_pooling2d_2 (MaxPooling2 (None, 9, 9, 128)         0         \n",
      "_________________________________________________________________\n",
      "conv2d_3 (Conv2D)            (None, 6, 6, 256)         524544    \n",
      "_________________________________________________________________\n",
      "flatten (Flatten)            (None, 9216)              0         \n",
      "_________________________________________________________________\n",
      "dense (Dense)                (None, 4096)              37752832  \n",
      "=================================================================\n",
      "Total params: 38,960,448\n",
      "Trainable params: 38,960,448\n",
      "Non-trainable params: 0\n",
      "_________________________________________________________________\n"
     ]
    }
   ],
   "source": [
    "mod.summary()"
   ]
  },
  {
   "cell_type": "code",
   "execution_count": 51,
   "metadata": {},
   "outputs": [],
   "source": [
    "def make_embedding(): \n",
    "    inp = Input(shape=(100,100,3), name='input_image')\n",
    "    \n",
    "    # First block\n",
    "    c1 = Conv2D(64, (10,10), activation='relu')(inp)\n",
    "    m1 = MaxPooling2D(64, (2,2), padding='same')(c1)\n",
    "    \n",
    "    # Second block\n",
    "    c2 = Conv2D(128, (7,7), activation='relu')(m1)\n",
    "    m2 = MaxPooling2D(64, (2,2), padding='same')(c2)\n",
    "    \n",
    "    # Third block \n",
    "    c3 = Conv2D(128, (4,4), activation='relu')(m2)\n",
    "    m3 = MaxPooling2D(64, (2,2), padding='same')(c3)\n",
    "    \n",
    "    # Final embedding block\n",
    "    c4 = Conv2D(256, (4,4), activation='relu')(m3)\n",
    "    f1 = Flatten()(c4)\n",
    "    d1 = Dense(4096, activation='sigmoid')(f1)\n",
    "    \n",
    "    \n",
    "    return Model(inputs=[inp], outputs=[d1], name='embedding')"
   ]
  },
  {
   "cell_type": "code",
   "execution_count": 52,
   "metadata": {},
   "outputs": [],
   "source": [
    "embedding = make_embedding()"
   ]
  },
  {
   "cell_type": "code",
   "execution_count": 53,
   "metadata": {},
   "outputs": [
    {
     "name": "stdout",
     "output_type": "stream",
     "text": [
      "Model: \"embedding\"\n",
      "_________________________________________________________________\n",
      "Layer (type)                 Output Shape              Param #   \n",
      "=================================================================\n",
      "input_image (InputLayer)     [(None, 100, 100, 3)]     0         \n",
      "_________________________________________________________________\n",
      "conv2d_4 (Conv2D)            (None, 91, 91, 64)        19264     \n",
      "_________________________________________________________________\n",
      "max_pooling2d_3 (MaxPooling2 (None, 46, 46, 64)        0         \n",
      "_________________________________________________________________\n",
      "conv2d_5 (Conv2D)            (None, 40, 40, 128)       401536    \n",
      "_________________________________________________________________\n",
      "max_pooling2d_4 (MaxPooling2 (None, 20, 20, 128)       0         \n",
      "_________________________________________________________________\n",
      "conv2d_6 (Conv2D)            (None, 17, 17, 128)       262272    \n",
      "_________________________________________________________________\n",
      "max_pooling2d_5 (MaxPooling2 (None, 9, 9, 128)         0         \n",
      "_________________________________________________________________\n",
      "conv2d_7 (Conv2D)            (None, 6, 6, 256)         524544    \n",
      "_________________________________________________________________\n",
      "flatten_1 (Flatten)          (None, 9216)              0         \n",
      "_________________________________________________________________\n",
      "dense_1 (Dense)              (None, 4096)              37752832  \n",
      "=================================================================\n",
      "Total params: 38,960,448\n",
      "Trainable params: 38,960,448\n",
      "Non-trainable params: 0\n",
      "_________________________________________________________________\n"
     ]
    }
   ],
   "source": [
    "embedding.summary()"
   ]
  },
  {
   "cell_type": "markdown",
   "metadata": {},
   "source": [
    "## 4.2 Compilando a camada do L1"
   ]
  },
  {
   "cell_type": "code",
   "execution_count": 54,
   "metadata": {},
   "outputs": [],
   "source": [
    "# classe que calcula o L1\n",
    "class L1Dist(Layer):\n",
    "    \n",
    "    # Init method - inheritance\n",
    "    def __init__(self, **kwargs):\n",
    "        super().__init__()\n",
    "       \n",
    "    # Cálculo de similaridade\n",
    "    def call(self, input_embedding, validation_embedding):\n",
    "        return tf.math.abs(input_embedding - validation_embedding)"
   ]
  },
  {
   "cell_type": "code",
   "execution_count": 55,
   "metadata": {},
   "outputs": [],
   "source": [
    "l1 = L1Dist()"
   ]
  },
  {
   "cell_type": "markdown",
   "metadata": {},
   "source": [
    "## 4.3 Cria o modelo"
   ]
  },
  {
   "cell_type": "code",
   "execution_count": 58,
   "metadata": {},
   "outputs": [],
   "source": [
    "input_image = Input(name='input_img', shape=(100,100,3))\n",
    "validation_image = Input(name='validation_img', shape=(100,100,3))"
   ]
  },
  {
   "cell_type": "code",
   "execution_count": 59,
   "metadata": {},
   "outputs": [],
   "source": [
    "inp_embedding = embedding(input_image)\n",
    "val_embedding = embedding(validation_image)"
   ]
  },
  {
   "cell_type": "code",
   "execution_count": 60,
   "metadata": {},
   "outputs": [],
   "source": [
    "siamese_layer = L1Dist()"
   ]
  },
  {
   "cell_type": "code",
   "execution_count": 61,
   "metadata": {},
   "outputs": [],
   "source": [
    "distances = siamese_layer(inp_embedding, val_embedding)"
   ]
  },
  {
   "cell_type": "code",
   "execution_count": 62,
   "metadata": {},
   "outputs": [],
   "source": [
    "classifier = Dense(1, activation='sigmoid')(distances)"
   ]
  },
  {
   "cell_type": "code",
   "execution_count": 63,
   "metadata": {},
   "outputs": [
    {
     "data": {
      "text/plain": "<KerasTensor: shape=(None, 1) dtype=float32 (created by layer 'dense_2')>"
     },
     "execution_count": 63,
     "metadata": {},
     "output_type": "execute_result"
    }
   ],
   "source": [
    "classifier"
   ]
  },
  {
   "cell_type": "code",
   "execution_count": 64,
   "metadata": {},
   "outputs": [],
   "source": [
    "siamese_network = Model(inputs=[input_image, validation_image], outputs=classifier, name='SiameseNetwork')"
   ]
  },
  {
   "cell_type": "code",
   "execution_count": 65,
   "metadata": {},
   "outputs": [
    {
     "name": "stdout",
     "output_type": "stream",
     "text": [
      "Model: \"SiameseNetwork\"\n",
      "__________________________________________________________________________________________________\n",
      "Layer (type)                    Output Shape         Param #     Connected to                     \n",
      "==================================================================================================\n",
      "input_img (InputLayer)          [(None, 100, 100, 3) 0                                            \n",
      "__________________________________________________________________________________________________\n",
      "validation_img (InputLayer)     [(None, 100, 100, 3) 0                                            \n",
      "__________________________________________________________________________________________________\n",
      "embedding (Functional)          (None, 4096)         38960448    input_img[0][0]                  \n",
      "                                                                 validation_img[0][0]             \n",
      "__________________________________________________________________________________________________\n",
      "l1_dist_1 (L1Dist)              (None, 4096)         0           embedding[0][0]                  \n",
      "                                                                 embedding[1][0]                  \n",
      "__________________________________________________________________________________________________\n",
      "dense_2 (Dense)                 (None, 1)            4097        l1_dist_1[0][0]                  \n",
      "==================================================================================================\n",
      "Total params: 38,964,545\n",
      "Trainable params: 38,964,545\n",
      "Non-trainable params: 0\n",
      "__________________________________________________________________________________________________\n"
     ]
    }
   ],
   "source": [
    "siamese_network.summary()"
   ]
  },
  {
   "cell_type": "code",
   "execution_count": 66,
   "metadata": {},
   "outputs": [],
   "source": [
    "def make_siamese_model(): \n",
    "    \n",
    "    # Anchor image input in the network\n",
    "    input_image = Input(name='input_img', shape=(100,100,3))\n",
    "    \n",
    "    # Validation image in the network \n",
    "    validation_image = Input(name='validation_img', shape=(100,100,3))\n",
    "    \n",
    "    # Combine siamese distance components\n",
    "    siamese_layer = L1Dist()\n",
    "    siamese_layer._name = 'distance'\n",
    "    distances = siamese_layer(embedding(input_image), embedding(validation_image))\n",
    "    \n",
    "    # Classification layer \n",
    "    classifier = Dense(1, activation='sigmoid')(distances)\n",
    "    \n",
    "    return Model(inputs=[input_image, validation_image], outputs=classifier, name='SiameseNetwork')"
   ]
  },
  {
   "cell_type": "code",
   "execution_count": 67,
   "metadata": {},
   "outputs": [],
   "source": [
    "siamese_model = make_siamese_model()"
   ]
  },
  {
   "cell_type": "code",
   "execution_count": 68,
   "metadata": {
    "tags": []
   },
   "outputs": [
    {
     "name": "stdout",
     "output_type": "stream",
     "text": [
      "Model: \"SiameseNetwork\"\n",
      "__________________________________________________________________________________________________\n",
      "Layer (type)                    Output Shape         Param #     Connected to                     \n",
      "==================================================================================================\n",
      "input_img (InputLayer)          [(None, 100, 100, 3) 0                                            \n",
      "__________________________________________________________________________________________________\n",
      "validation_img (InputLayer)     [(None, 100, 100, 3) 0                                            \n",
      "__________________________________________________________________________________________________\n",
      "embedding (Functional)          (None, 4096)         38960448    input_img[0][0]                  \n",
      "                                                                 validation_img[0][0]             \n",
      "__________________________________________________________________________________________________\n",
      "distance (L1Dist)               (None, 4096)         0           embedding[2][0]                  \n",
      "                                                                 embedding[3][0]                  \n",
      "__________________________________________________________________________________________________\n",
      "dense_3 (Dense)                 (None, 1)            4097        distance[0][0]                   \n",
      "==================================================================================================\n",
      "Total params: 38,964,545\n",
      "Trainable params: 38,964,545\n",
      "Non-trainable params: 0\n",
      "__________________________________________________________________________________________________\n"
     ]
    }
   ],
   "source": [
    "siamese_model.summary()"
   ]
  },
  {
   "cell_type": "markdown",
   "source": [
    "Capítulo 4 é responsável pela criação das funções do modelo, bem como o fluxo das camadas."
   ],
   "metadata": {
    "collapsed": false
   }
  },
  {
   "cell_type": "markdown",
   "metadata": {},
   "source": [
    "# 5. Treinamento"
   ]
  },
  {
   "cell_type": "markdown",
   "metadata": {},
   "source": [
    "## 5.1 Configuração da função de perda e otimizador"
   ]
  },
  {
   "cell_type": "code",
   "execution_count": 69,
   "metadata": {},
   "outputs": [],
   "source": [
    "binary_cross_loss = tf.losses.BinaryCrossentropy()"
   ]
  },
  {
   "cell_type": "code",
   "execution_count": 70,
   "metadata": {},
   "outputs": [],
   "source": [
    "opt = tf.keras.optimizers.Adam(1e-4) # 0.0001"
   ]
  },
  {
   "cell_type": "markdown",
   "metadata": {},
   "source": [
    "## 5.2 Criando Checkpoints"
   ]
  },
  {
   "cell_type": "code",
   "execution_count": 71,
   "metadata": {},
   "outputs": [],
   "source": [
    "checkpoint_dir = './training_checkpoints'\n",
    "checkpoint_prefix = os.path.join(checkpoint_dir, 'ckpt')\n",
    "checkpoint = tf.train.Checkpoint(opt=opt, siamese_model=siamese_model)"
   ]
  },
  {
   "cell_type": "markdown",
   "metadata": {},
   "source": [
    "## 5.3 Compilando treino e funçao do passo"
   ]
  },
  {
   "cell_type": "code",
   "execution_count": 72,
   "metadata": {},
   "outputs": [],
   "source": [
    "test_batch = train_data.as_numpy_iterator()"
   ]
  },
  {
   "cell_type": "code",
   "execution_count": 73,
   "metadata": {},
   "outputs": [],
   "source": [
    "batch_1 = test_batch.next()"
   ]
  },
  {
   "cell_type": "code",
   "execution_count": 74,
   "metadata": {},
   "outputs": [],
   "source": [
    "X = batch_1[:2]"
   ]
  },
  {
   "cell_type": "code",
   "execution_count": 75,
   "metadata": {},
   "outputs": [],
   "source": [
    "y = batch_1[2]"
   ]
  },
  {
   "cell_type": "code",
   "execution_count": 76,
   "metadata": {},
   "outputs": [
    {
     "data": {
      "text/plain": "array([1., 1., 0., 1., 1., 0., 1., 0., 1., 1., 1., 0., 0., 0., 0., 1.],\n      dtype=float32)"
     },
     "execution_count": 76,
     "metadata": {},
     "output_type": "execute_result"
    }
   ],
   "source": [
    "y"
   ]
  },
  {
   "cell_type": "code",
   "execution_count": 77,
   "metadata": {
    "collapsed": true,
    "jupyter": {
     "outputs_hidden": true
    },
    "tags": []
   },
   "outputs": [],
   "source": [
    "tf.losses.BinaryCrossentropy??"
   ]
  },
  {
   "cell_type": "code",
   "execution_count": 78,
   "metadata": {
    "tags": []
   },
   "outputs": [],
   "source": [
    "@tf.function\n",
    "def train_step(batch):\n",
    "\n",
    "    with tf.GradientTape() as tape:\n",
    "        X = batch[:2]\n",
    "        y = batch[2]\n",
    "\n",
    "        yhat = siamese_model(X, training=True)\n",
    "        loss = binary_cross_loss(y, yhat)\n",
    "    print(loss)\n",
    "\n",
    "    grad = tape.gradient(loss, siamese_model.trainable_variables)\n",
    "\n",
    "    opt.apply_gradients(zip(grad, siamese_model.trainable_variables))\n",
    "    return loss"
   ]
  },
  {
   "cell_type": "markdown",
   "metadata": {},
   "source": [
    "## 5.4 Construindo o loop de treinamento"
   ]
  },
  {
   "cell_type": "code",
   "execution_count": 79,
   "metadata": {},
   "outputs": [],
   "source": [
    "# Importar as bibliotecas para métricas\n",
    "from tensorflow.keras.metrics import Precision, Recall"
   ]
  },
  {
   "cell_type": "code",
   "execution_count": 80,
   "metadata": {},
   "outputs": [],
   "source": [
    "def train(data, EPOCHS):\n",
    "    # loop nas epochs\n",
    "    for epoch in range(1, EPOCHS+1):\n",
    "        print('\\n Epoch {}/{}'.format(epoch, EPOCHS))\n",
    "        progbar = tf.keras.utils.Progbar(len(data))\n",
    "        \n",
    "        # criando os objetos de métricas\n",
    "        r = Recall()\n",
    "        p = Precision()\n",
    "        \n",
    "        # Loop em cada pacote\n",
    "        for idx, batch in enumerate(data):\n",
    "            # roda o passo do treino aqui\n",
    "            loss = train_step(batch)\n",
    "            yhat = siamese_model.predict(batch[:2])\n",
    "            r.update_state(batch[2], yhat)\n",
    "            p.update_state(batch[2], yhat) \n",
    "            progbar.update(idx+1)\n",
    "        print(loss.numpy(), r.result().numpy(), p.result().numpy())\n",
    "        \n",
    "        # Salva checkpoints\n",
    "        if epoch % 10 == 0: \n",
    "            checkpoint.save(file_prefix=checkpoint_prefix)"
   ]
  },
  {
   "cell_type": "markdown",
   "metadata": {},
   "source": [
    "## 5.5 Treinando o modelo (Atenção: Aqui pode demorar algumas horas)"
   ]
  },
  {
   "cell_type": "code",
   "execution_count": 81,
   "metadata": {},
   "outputs": [],
   "source": [
    "EPOCHS = 50"
   ]
  },
  {
   "cell_type": "code",
   "execution_count": 82,
   "metadata": {
    "scrolled": true,
    "tags": []
   },
   "outputs": [
    {
     "name": "stdout",
     "output_type": "stream",
     "text": [
      "\n",
      " Epoch 1/50\n",
      "Tensor(\"binary_crossentropy/weighted_loss/value:0\", shape=(), dtype=float32)\n",
      "Tensor(\"binary_crossentropy/weighted_loss/value:0\", shape=(), dtype=float32)\n",
      "26/27 [===========================>..] - ETA: 12sTensor(\"binary_crossentropy/weighted_loss/value:0\", shape=(), dtype=float32)\n",
      "27/27 [==============================] - 335s 12s/step\n",
      "0.08357145 0.6255924 1.0\n",
      "\n",
      " Epoch 2/50\n",
      "27/27 [==============================] - 370s 14s/step\n",
      "0.05214345 0.96744186 1.0\n",
      "\n",
      " Epoch 3/50\n",
      "27/27 [==============================] - 372s 14s/step\n",
      "0.0013041433 0.9908257 1.0\n",
      "\n",
      " Epoch 4/50\n",
      "27/27 [==============================] - 370s 14s/step\n",
      "0.005126998 1.0 1.0\n",
      "\n",
      " Epoch 5/50\n",
      "27/27 [==============================] - 433s 16s/step\n",
      "0.0012825088 1.0 1.0\n",
      "\n",
      " Epoch 6/50\n",
      "27/27 [==============================] - 355s 13s/step\n",
      "0.0030989938 1.0 1.0\n",
      "\n",
      " Epoch 7/50\n",
      "27/27 [==============================] - 453s 17s/step\n",
      "0.0002672168 1.0 1.0\n",
      "\n",
      " Epoch 8/50\n",
      "27/27 [==============================] - 370s 14s/step\n",
      "0.00032295313 1.0 1.0\n",
      "\n",
      " Epoch 9/50\n",
      "27/27 [==============================] - 407s 15s/step\n",
      "0.0001574345 1.0 1.0\n",
      "\n",
      " Epoch 10/50\n",
      "27/27 [==============================] - 412s 15s/step\n",
      "0.00010667728 1.0 1.0\n",
      "\n",
      " Epoch 11/50\n",
      "27/27 [==============================] - 322s 12s/step\n",
      "0.00024393176 1.0 1.0\n",
      "\n",
      " Epoch 12/50\n",
      "27/27 [==============================] - 336s 12s/step\n",
      "0.00040820433 1.0 1.0\n",
      "\n",
      " Epoch 13/50\n",
      "27/27 [==============================] - 362s 13s/step\n",
      "2.8312215e-07 1.0 1.0\n",
      "\n",
      " Epoch 14/50\n",
      "27/27 [==============================] - 359s 13s/step\n",
      "4.112751e-06 1.0 1.0\n",
      "\n",
      " Epoch 15/50\n",
      "27/27 [==============================] - 360s 13s/step\n",
      "0.000736421 1.0 1.0\n",
      "\n",
      " Epoch 16/50\n",
      "27/27 [==============================] - 396s 15s/step\n",
      "8.165895e-06 1.0 1.0\n",
      "\n",
      " Epoch 17/50\n",
      "27/27 [==============================] - 449s 17s/step\n",
      "2.0861712e-06 1.0 1.0\n",
      "\n",
      " Epoch 18/50\n",
      "27/27 [==============================] - 484s 18s/step\n",
      "1.8448247e-05 1.0 1.0\n",
      "\n",
      " Epoch 19/50\n",
      "27/27 [==============================] - 399s 15s/step\n",
      "1.2398068e-05 1.0 1.0\n",
      "\n",
      " Epoch 20/50\n",
      "27/27 [==============================] - 420s 16s/step\n",
      "2.1279753e-05 1.0 1.0\n",
      "\n",
      " Epoch 21/50\n",
      "27/27 [==============================] - 440s 16s/step\n",
      "4.9770374e-06 1.0 1.0\n",
      "\n",
      " Epoch 22/50\n",
      "27/27 [==============================] - 440s 16s/step\n",
      "3.486893e-06 1.0 1.0\n",
      "\n",
      " Epoch 23/50\n",
      "27/27 [==============================] - 434s 16s/step\n",
      "2.3245916e-06 1.0 1.0\n",
      "\n",
      " Epoch 24/50\n",
      "27/27 [==============================] - 423s 16s/step\n",
      "6.569193e-05 1.0 1.0\n",
      "\n",
      " Epoch 25/50\n",
      "27/27 [==============================] - 418s 15s/step\n",
      "4.4703487e-08 1.0 1.0\n",
      "\n",
      " Epoch 26/50\n",
      "27/27 [==============================] - 424s 16s/step\n",
      "0.0 1.0 1.0\n",
      "\n",
      " Epoch 27/50\n",
      "27/27 [==============================] - 426s 16s/step\n",
      "7.1525676e-07 1.0 1.0\n",
      "\n",
      " Epoch 28/50\n",
      "27/27 [==============================] - 424s 16s/step\n",
      "7.897628e-07 1.0 1.0\n",
      "\n",
      " Epoch 29/50\n",
      "27/27 [==============================] - 414s 15s/step\n",
      "0.0 1.0 1.0\n",
      "\n",
      " Epoch 30/50\n",
      "27/27 [==============================] - 325s 12s/step\n",
      "4.4703487e-08 1.0 1.0\n",
      "\n",
      " Epoch 31/50\n",
      "27/27 [==============================] - 314s 12s/step\n",
      "4.470351e-07 1.0 1.0\n",
      "\n",
      " Epoch 32/50\n",
      "27/27 [==============================] - 312s 11s/step\n",
      "9.834777e-07 1.0 1.0\n",
      "\n",
      " Epoch 33/50\n",
      "27/27 [==============================] - 310s 11s/step\n",
      "0.0 1.0 1.0\n",
      "\n",
      " Epoch 34/50\n",
      "27/27 [==============================] - 327s 12s/step\n",
      "1.4901161e-08 1.0 1.0\n",
      "\n",
      " Epoch 35/50\n",
      "27/27 [==============================] - 313s 12s/step\n",
      "1.14294435e-05 1.0 1.0\n",
      "\n",
      " Epoch 36/50\n",
      "27/27 [==============================] - 313s 12s/step\n",
      "2.384187e-07 1.0 1.0\n",
      "\n",
      " Epoch 37/50\n",
      "27/27 [==============================] - 325s 12s/step\n",
      "1.3381546e-05 1.0 1.0\n",
      "\n",
      " Epoch 38/50\n",
      "27/27 [==============================] - 314s 12s/step\n",
      "0.0 1.0 1.0\n",
      "\n",
      " Epoch 39/50\n",
      "27/27 [==============================] - 354s 13s/step\n",
      "0.0 1.0 1.0\n",
      "\n",
      " Epoch 40/50\n",
      "27/27 [==============================] - 365s 14s/step\n",
      "3.3676695e-06 1.0 1.0\n",
      "\n",
      " Epoch 41/50\n",
      "27/27 [==============================] - 349s 13s/step\n",
      "2.4200594e-05 1.0 1.0\n",
      "\n",
      " Epoch 42/50\n",
      "27/27 [==============================] - 356s 13s/step\n",
      "2.7061951e-05 1.0 1.0\n",
      "\n",
      " Epoch 43/50\n",
      "27/27 [==============================] - 351s 13s/step\n",
      "1.0430814e-07 1.0 1.0\n",
      "\n",
      " Epoch 44/50\n",
      "27/27 [==============================] - 328s 12s/step\n",
      "3.7700222e-06 1.0 1.0\n",
      "\n",
      " Epoch 45/50\n",
      "27/27 [==============================] - 318s 12s/step\n",
      "0.0 1.0 1.0\n",
      "\n",
      " Epoch 46/50\n",
      "27/27 [==============================] - 319s 12s/step\n",
      "7.003553e-07 1.0 1.0\n",
      "\n",
      " Epoch 47/50\n",
      "27/27 [==============================] - 317s 12s/step\n",
      "2.3990979e-06 1.0 1.0\n",
      "\n",
      " Epoch 48/50\n",
      "27/27 [==============================] - 323s 12s/step\n",
      "8.94071e-07 1.0 1.0\n",
      "\n",
      " Epoch 49/50\n",
      "27/27 [==============================] - 318s 12s/step\n",
      "1.3709444e-05 1.0 1.0\n",
      "\n",
      " Epoch 50/50\n",
      "27/27 [==============================] - 328s 12s/step\n",
      "3.725293e-07 1.0 1.0\n"
     ]
    }
   ],
   "source": [
    "train(train_data, EPOCHS)"
   ]
  },
  {
   "cell_type": "markdown",
   "source": [
    "Capítulo 5 é marcado pela criação do modelo, calibração dos parâmetros e geração do arquivo h5"
   ],
   "metadata": {
    "collapsed": false
   }
  },
  {
   "cell_type": "markdown",
   "metadata": {
    "tags": []
   },
   "source": [
    "# 6. Validação do modelo"
   ]
  },
  {
   "cell_type": "markdown",
   "metadata": {},
   "source": [
    "## 6.1 Importando as Métricas"
   ]
  },
  {
   "cell_type": "code",
   "execution_count": 83,
   "metadata": {},
   "outputs": [],
   "source": [
    "# Importando métricas de cálculo\n",
    "from tensorflow.keras.metrics import Precision, Recall"
   ]
  },
  {
   "cell_type": "markdown",
   "metadata": {},
   "source": [
    "## 6.2 Fazendo predições"
   ]
  },
  {
   "cell_type": "code",
   "execution_count": 84,
   "metadata": {},
   "outputs": [],
   "source": [
    "test_input, test_val, y_true = test_data.as_numpy_iterator().next()"
   ]
  },
  {
   "cell_type": "code",
   "execution_count": 85,
   "metadata": {
    "tags": []
   },
   "outputs": [],
   "source": [
    "y_hat = siamese_model.predict([test_input, test_val])"
   ]
  },
  {
   "cell_type": "code",
   "execution_count": 86,
   "metadata": {
    "tags": []
   },
   "outputs": [
    {
     "data": {
      "text/plain": "[1, 0, 0, 0, 0, 1, 1, 1, 1, 1, 0, 1, 0, 1, 1, 1]"
     },
     "execution_count": 86,
     "metadata": {},
     "output_type": "execute_result"
    }
   ],
   "source": [
    "[1 if prediction > 0.5 else 0 for prediction in y_hat ]"
   ]
  },
  {
   "cell_type": "code",
   "execution_count": 87,
   "metadata": {
    "tags": []
   },
   "outputs": [
    {
     "data": {
      "text/plain": "array([1., 0., 0., 0., 0., 1., 1., 1., 1., 1., 0., 1., 0., 1., 1., 1.],\n      dtype=float32)"
     },
     "execution_count": 87,
     "metadata": {},
     "output_type": "execute_result"
    }
   ],
   "source": [
    "y_true"
   ]
  },
  {
   "cell_type": "markdown",
   "metadata": {},
   "source": [
    "## 6.3 Calculando métricas"
   ]
  },
  {
   "cell_type": "code",
   "execution_count": 88,
   "metadata": {},
   "outputs": [
    {
     "data": {
      "text/plain": "1.0"
     },
     "execution_count": 88,
     "metadata": {},
     "output_type": "execute_result"
    }
   ],
   "source": [
    "m = Recall()\n",
    "m.update_state(y_true, y_hat)\n",
    "m.result().numpy()"
   ]
  },
  {
   "cell_type": "code",
   "execution_count": 89,
   "metadata": {},
   "outputs": [
    {
     "data": {
      "text/plain": "1.0"
     },
     "execution_count": 89,
     "metadata": {},
     "output_type": "execute_result"
    }
   ],
   "source": [
    "m = Precision()\n",
    "m.update_state(y_true, y_hat)\n",
    "m.result().numpy()"
   ]
  },
  {
   "cell_type": "code",
   "execution_count": 90,
   "metadata": {},
   "outputs": [
    {
     "name": "stdout",
     "output_type": "stream",
     "text": [
      "1.0 1.0\n"
     ]
    }
   ],
   "source": [
    "r = Recall()\n",
    "p = Precision()\n",
    "\n",
    "for test_input, test_val, y_true in test_data.as_numpy_iterator():\n",
    "    yhat = siamese_model.predict([test_input, test_val])\n",
    "    r.update_state(y_true, yhat)\n",
    "    p.update_state(y_true,yhat) \n",
    "\n",
    "print(r.result().numpy(), p.result().numpy())"
   ]
  },
  {
   "cell_type": "markdown",
   "metadata": {},
   "source": [
    "## 6.4 Visualizando resultados"
   ]
  },
  {
   "cell_type": "code",
   "execution_count": 93,
   "metadata": {},
   "outputs": [
    {
     "data": {
      "text/plain": "<Figure size 1000x800 with 2 Axes>",
      "image/png": "[encoded data removed]"
     },
     "metadata": {},
     "output_type": "display_data"
    }
   ],
   "source": [
    "# Set plot size \n",
    "plt.figure(figsize=(10,8))\n",
    "\n",
    "# Set first subplot\n",
    "plt.subplot(1,2,1)\n",
    "plt.imshow(test_input[0])\n",
    "\n",
    "# Set second subplot\n",
    "plt.subplot(1,2,2)\n",
    "plt.imshow(test_val[0])\n",
    "\n",
    "# Renders cleanly\n",
    "plt.show()"
   ]
  },
  {
   "cell_type": "markdown",
   "source": [
    "No capítulo 6, podemos verificar se o modelo está adequado, ou se precisa voltar para ajustar. Nesse caso, o modelo sim está adequado."
   ],
   "metadata": {
    "collapsed": false
   }
  },
  {
   "cell_type": "markdown",
   "metadata": {},
   "source": [
    "# 7. Salvando o modelo"
   ]
  },
  {
   "cell_type": "code",
   "execution_count": 94,
   "metadata": {},
   "outputs": [],
   "source": [
    "# Salva o modelo\n",
    "siamese_model.save('siamesemodel.h5')"
   ]
  },
  {
   "cell_type": "code",
   "execution_count": 95,
   "metadata": {},
   "outputs": [
    {
     "data": {
      "text/plain": "__main__.L1Dist"
     },
     "execution_count": 95,
     "metadata": {},
     "output_type": "execute_result"
    }
   ],
   "source": [
    "L1Dist"
   ]
  },
  {
   "cell_type": "code",
   "execution_count": 98,
   "metadata": {},
   "outputs": [
    {
     "name": "stdout",
     "output_type": "stream",
     "text": [
      "WARNING:tensorflow:No training configuration found in the save file, so the model was *not* compiled. Compile it manually.\n"
     ]
    }
   ],
   "source": [
    "# Recarrega o modelo\n",
    "siamese_model = tf.keras.models.load_model('siamesemodel.h5',\n",
    "                                           custom_objects={'L1Dist':L1Dist, 'BinaryCrossentropy':tf.losses.BinaryCrossentropy})"
   ]
  },
  {
   "cell_type": "code",
   "execution_count": 99,
   "metadata": {},
   "outputs": [
    {
     "data": {
      "text/plain": "array([[9.9998951e-01],\n       [1.0000000e+00],\n       [3.4826397e-09],\n       [9.9999976e-01]], dtype=float32)"
     },
     "execution_count": 99,
     "metadata": {},
     "output_type": "execute_result"
    }
   ],
   "source": [
    "# Faz predições com o modelo carregado\n",
    "siamese_model.predict([test_input, test_val])"
   ]
  },
  {
   "cell_type": "code",
   "execution_count": 100,
   "metadata": {},
   "outputs": [
    {
     "name": "stdout",
     "output_type": "stream",
     "text": [
      "Model: \"SiameseNetwork\"\n",
      "__________________________________________________________________________________________________\n",
      "Layer (type)                    Output Shape         Param #     Connected to                     \n",
      "==================================================================================================\n",
      "input_img (InputLayer)          [(None, 100, 100, 3) 0                                            \n",
      "__________________________________________________________________________________________________\n",
      "validation_img (InputLayer)     [(None, 100, 100, 3) 0                                            \n",
      "__________________________________________________________________________________________________\n",
      "embedding (Functional)          (None, 4096)         38960448    input_img[0][0]                  \n",
      "                                                                 validation_img[0][0]             \n",
      "__________________________________________________________________________________________________\n",
      "l1_dist_4 (L1Dist)              (None, 4096)         0           embedding[0][0]                  \n",
      "                                                                 embedding[1][0]                  \n",
      "__________________________________________________________________________________________________\n",
      "dense_3 (Dense)                 (None, 1)            4097        l1_dist_4[0][0]                  \n",
      "==================================================================================================\n",
      "Total params: 38,964,545\n",
      "Trainable params: 38,964,545\n",
      "Non-trainable params: 0\n",
      "__________________________________________________________________________________________________\n"
     ]
    }
   ],
   "source": [
    "# Visualiza resumo do modelo\n",
    "siamese_model.summary()"
   ]
  },
  {
   "cell_type": "markdown",
   "source": [
    "No capítulo 7 o arquivo é gerado para ser usado em outras aplicações. Além disso, é feita uma verificação se o arquivo foi gerado corretamente."
   ],
   "metadata": {
    "collapsed": false
   }
  },
  {
   "cell_type": "markdown",
   "metadata": {},
   "source": [
    "# 8. Teste em tempo real"
   ]
  },
  {
   "cell_type": "markdown",
   "metadata": {},
   "source": [
    "## 8.1 Função de verificação"
   ]
  },
  {
   "cell_type": "code",
   "execution_count": 110,
   "metadata": {},
   "outputs": [
    {
     "data": {
      "text/plain": "['1c797709-725f-11ed-a47c-5ccd5bfa1b4d.jpg',\n '1caf4f26-725f-11ed-a8a9-5ccd5bfa1b4d.jpg',\n '1ccf151c-725f-11ed-9310-5ccd5bfa1b4d.jpg',\n '1cf1615f-725f-11ed-a520-5ccd5bfa1b4d.jpg',\n '1d24a974-725f-11ed-86b6-5ccd5bfa1b4d.jpg',\n '1d3827dd-725f-11ed-89eb-5ccd5bfa1b4d.jpg',\n '1e5389e6-725f-11ed-8725-5ccd5bfa1b4d.jpg',\n '2a8ac7ca-725f-11ed-b26f-5ccd5bfa1b4d.jpg',\n '2a998675-725f-11ed-b6a9-5ccd5bfa1b4d.jpg',\n '3204cdb8-725f-11ed-93fe-5ccd5bfa1b4d.jpg',\n '32210541-725f-11ed-8256-5ccd5bfa1b4d.jpg',\n '35519712-725f-11ed-a6d0-5ccd5bfa1b4d.jpg',\n '357415f0-725f-11ed-a203-5ccd5bfa1b4d.jpg',\n '36682096-725f-11ed-84c2-5ccd5bfa1b4d.jpg',\n '41cd5d99-725f-11ed-84c5-5ccd5bfa1b4d.jpg',\n '41e5b0de-725f-11ed-a86b-5ccd5bfa1b4d.jpg',\n '41f6dd9a-725f-11ed-8116-5ccd5bfa1b4d.jpg',\n '42346b23-725f-11ed-bd87-5ccd5bfa1b4d.jpg',\n '42652a7b-725f-11ed-b117-5ccd5bfa1b4d.jpg',\n '427801d5-725f-11ed-91d8-5ccd5bfa1b4d.jpg',\n '42957585-725f-11ed-82b8-5ccd5bfa1b4d.jpg',\n '4373a564-725f-11ed-af41-5ccd5bfa1b4d.jpg',\n '4423a559-725f-11ed-bc85-5ccd5bfa1b4d.jpg',\n '443e5e23-725f-11ed-8edb-5ccd5bfa1b4d.jpg',\n '44653c26-725f-11ed-81da-5ccd5bfa1b4d.jpg',\n '4493e8c5-725f-11ed-b2c5-5ccd5bfa1b4d.jpg',\n '4519f375-725f-11ed-950a-5ccd5bfa1b4d.jpg',\n '45791ea6-725f-11ed-993b-5ccd5bfa1b4d.jpg',\n '458573c6-725f-11ed-94f1-5ccd5bfa1b4d.jpg',\n '45a5286b-725f-11ed-888a-5ccd5bfa1b4d.jpg',\n '45d553f1-725f-11ed-be6c-5ccd5bfa1b4d.jpg',\n '45dafcc9-725f-11ed-88e9-5ccd5bfa1b4d.jpg',\n '45ec10d3-725f-11ed-9592-5ccd5bfa1b4d.jpg',\n '45f34227-725f-11ed-b65f-5ccd5bfa1b4d.jpg',\n '463599bf-725f-11ed-8b02-5ccd5bfa1b4d.jpg',\n '4674c53d-725f-11ed-89fa-5ccd5bfa1b4d.jpg',\n '46a2e50d-725f-11ed-8542-5ccd5bfa1b4d.jpg',\n '46af3ded-725f-11ed-a907-5ccd5bfa1b4d.jpg',\n '475384e5-725f-11ed-b539-5ccd5bfa1b4d.jpg',\n '48056d57-725f-11ed-9fff-5ccd5bfa1b4d.jpg',\n '48275a1a-725f-11ed-9220-5ccd5bfa1b4d.jpg',\n '48425bca-725f-11ed-9064-5ccd5bfa1b4d.jpg',\n '48643c92-725f-11ed-82e3-5ccd5bfa1b4d.jpg',\n '48e7ffc8-725f-11ed-996e-5ccd5bfa1b4d.jpg',\n '498234a5-725f-11ed-b36e-5ccd5bfa1b4d.jpg',\n '4a05cf5f-725f-11ed-ba09-5ccd5bfa1b4d.jpg',\n '4a1e4947-725f-11ed-846d-5ccd5bfa1b4d.jpg',\n '4a431a39-725f-11ed-8177-5ccd5bfa1b4d.jpg',\n '4a6a328b-725f-11ed-8f99-5ccd5bfa1b4d.jpg',\n '4a84b2ae-725f-11ed-bb04-5ccd5bfa1b4d.jpg']"
     },
     "execution_count": 110,
     "metadata": {},
     "output_type": "execute_result"
    }
   ],
   "source": [
    "os.listdir(os.path.join('application_data', 'verification_images'))"
   ]
  },
  {
   "cell_type": "code",
   "execution_count": 111,
   "metadata": {},
   "outputs": [
    {
     "data": {
      "text/plain": "'application_data\\\\input_image\\\\input_image.jpg'"
     },
     "execution_count": 111,
     "metadata": {},
     "output_type": "execute_result"
    }
   ],
   "source": [
    "os.path.join('application_data', 'input_image', 'input_image.jpg')"
   ]
  },
  {
   "cell_type": "code",
   "execution_count": 112,
   "metadata": {},
   "outputs": [
    {
     "name": "stdout",
     "output_type": "stream",
     "text": [
      "application_data\\verification_images\\1c797709-725f-11ed-a47c-5ccd5bfa1b4d.jpg\n",
      "application_data\\verification_images\\1caf4f26-725f-11ed-a8a9-5ccd5bfa1b4d.jpg\n",
      "application_data\\verification_images\\1ccf151c-725f-11ed-9310-5ccd5bfa1b4d.jpg\n",
      "application_data\\verification_images\\1cf1615f-725f-11ed-a520-5ccd5bfa1b4d.jpg\n",
      "application_data\\verification_images\\1d24a974-725f-11ed-86b6-5ccd5bfa1b4d.jpg\n",
      "application_data\\verification_images\\1d3827dd-725f-11ed-89eb-5ccd5bfa1b4d.jpg\n",
      "application_data\\verification_images\\1e5389e6-725f-11ed-8725-5ccd5bfa1b4d.jpg\n",
      "application_data\\verification_images\\2a8ac7ca-725f-11ed-b26f-5ccd5bfa1b4d.jpg\n",
      "application_data\\verification_images\\2a998675-725f-11ed-b6a9-5ccd5bfa1b4d.jpg\n",
      "application_data\\verification_images\\3204cdb8-725f-11ed-93fe-5ccd5bfa1b4d.jpg\n",
      "application_data\\verification_images\\32210541-725f-11ed-8256-5ccd5bfa1b4d.jpg\n",
      "application_data\\verification_images\\35519712-725f-11ed-a6d0-5ccd5bfa1b4d.jpg\n",
      "application_data\\verification_images\\357415f0-725f-11ed-a203-5ccd5bfa1b4d.jpg\n",
      "application_data\\verification_images\\36682096-725f-11ed-84c2-5ccd5bfa1b4d.jpg\n",
      "application_data\\verification_images\\41cd5d99-725f-11ed-84c5-5ccd5bfa1b4d.jpg\n",
      "application_data\\verification_images\\41e5b0de-725f-11ed-a86b-5ccd5bfa1b4d.jpg\n",
      "application_data\\verification_images\\41f6dd9a-725f-11ed-8116-5ccd5bfa1b4d.jpg\n",
      "application_data\\verification_images\\42346b23-725f-11ed-bd87-5ccd5bfa1b4d.jpg\n",
      "application_data\\verification_images\\42652a7b-725f-11ed-b117-5ccd5bfa1b4d.jpg\n",
      "application_data\\verification_images\\427801d5-725f-11ed-91d8-5ccd5bfa1b4d.jpg\n",
      "application_data\\verification_images\\42957585-725f-11ed-82b8-5ccd5bfa1b4d.jpg\n",
      "application_data\\verification_images\\4373a564-725f-11ed-af41-5ccd5bfa1b4d.jpg\n",
      "application_data\\verification_images\\4423a559-725f-11ed-bc85-5ccd5bfa1b4d.jpg\n",
      "application_data\\verification_images\\443e5e23-725f-11ed-8edb-5ccd5bfa1b4d.jpg\n",
      "application_data\\verification_images\\44653c26-725f-11ed-81da-5ccd5bfa1b4d.jpg\n",
      "application_data\\verification_images\\4493e8c5-725f-11ed-b2c5-5ccd5bfa1b4d.jpg\n",
      "application_data\\verification_images\\4519f375-725f-11ed-950a-5ccd5bfa1b4d.jpg\n",
      "application_data\\verification_images\\45791ea6-725f-11ed-993b-5ccd5bfa1b4d.jpg\n",
      "application_data\\verification_images\\458573c6-725f-11ed-94f1-5ccd5bfa1b4d.jpg\n",
      "application_data\\verification_images\\45a5286b-725f-11ed-888a-5ccd5bfa1b4d.jpg\n",
      "application_data\\verification_images\\45d553f1-725f-11ed-be6c-5ccd5bfa1b4d.jpg\n",
      "application_data\\verification_images\\45dafcc9-725f-11ed-88e9-5ccd5bfa1b4d.jpg\n",
      "application_data\\verification_images\\45ec10d3-725f-11ed-9592-5ccd5bfa1b4d.jpg\n",
      "application_data\\verification_images\\45f34227-725f-11ed-b65f-5ccd5bfa1b4d.jpg\n",
      "application_data\\verification_images\\463599bf-725f-11ed-8b02-5ccd5bfa1b4d.jpg\n",
      "application_data\\verification_images\\4674c53d-725f-11ed-89fa-5ccd5bfa1b4d.jpg\n",
      "application_data\\verification_images\\46a2e50d-725f-11ed-8542-5ccd5bfa1b4d.jpg\n",
      "application_data\\verification_images\\46af3ded-725f-11ed-a907-5ccd5bfa1b4d.jpg\n",
      "application_data\\verification_images\\475384e5-725f-11ed-b539-5ccd5bfa1b4d.jpg\n",
      "application_data\\verification_images\\48056d57-725f-11ed-9fff-5ccd5bfa1b4d.jpg\n",
      "application_data\\verification_images\\48275a1a-725f-11ed-9220-5ccd5bfa1b4d.jpg\n",
      "application_data\\verification_images\\48425bca-725f-11ed-9064-5ccd5bfa1b4d.jpg\n",
      "application_data\\verification_images\\48643c92-725f-11ed-82e3-5ccd5bfa1b4d.jpg\n",
      "application_data\\verification_images\\48e7ffc8-725f-11ed-996e-5ccd5bfa1b4d.jpg\n",
      "application_data\\verification_images\\498234a5-725f-11ed-b36e-5ccd5bfa1b4d.jpg\n",
      "application_data\\verification_images\\4a05cf5f-725f-11ed-ba09-5ccd5bfa1b4d.jpg\n",
      "application_data\\verification_images\\4a1e4947-725f-11ed-846d-5ccd5bfa1b4d.jpg\n",
      "application_data\\verification_images\\4a431a39-725f-11ed-8177-5ccd5bfa1b4d.jpg\n",
      "application_data\\verification_images\\4a6a328b-725f-11ed-8f99-5ccd5bfa1b4d.jpg\n",
      "application_data\\verification_images\\4a84b2ae-725f-11ed-bb04-5ccd5bfa1b4d.jpg\n"
     ]
    }
   ],
   "source": [
    "for image in os.listdir(os.path.join('application_data', 'verification_images')):\n",
    "    validation_img = os.path.join('application_data', 'verification_images', image)\n",
    "    print(validation_img)"
   ]
  },
  {
   "cell_type": "code",
   "execution_count": 113,
   "metadata": {},
   "outputs": [],
   "source": [
    "def verify(model, detection_threshold, verification_threshold):\n",
    "\n",
    "    results = []\n",
    "    for image in os.listdir(os.path.join('application_data', 'verification_images')):\n",
    "        input_img = preprocess(os.path.join('application_data', 'input_image', 'input_image.jpg'))\n",
    "        validation_img = preprocess(os.path.join('application_data', 'verification_images', image))\n",
    "        \n",
    "        # faz predições\n",
    "        result = model.predict(list(np.expand_dims([input_img, validation_img], axis=1)))\n",
    "        results.append(result)\n",
    "\n",
    "    detection = np.sum(np.array(results) > detection_threshold)\n",
    "\n",
    "    verification = detection / len(os.listdir(os.path.join('application_data', 'verification_images'))) \n",
    "    verified = verification > verification_threshold\n",
    "    \n",
    "    return results, verified"
   ]
  },
  {
   "cell_type": "markdown",
   "metadata": {},
   "source": [
    "## 8.2 OpenCV Verificação em tempo real"
   ]
  },
  {
   "cell_type": "code",
   "execution_count": 116,
   "metadata": {},
   "outputs": [
    {
     "name": "stdout",
     "output_type": "stream",
     "text": [
      "True\n",
      "False\n"
     ]
    }
   ],
   "source": [
    "cap = cv2.VideoCapture(0)\n",
    "while cap.isOpened():\n",
    "    ret, frame = cap.read()\n",
    "    frame = frame[120:120+250,200:200+250, :]\n",
    "    \n",
    "    cv2.imshow('Verification', frame)\n",
    "    \n",
    "    # dispara verificação\n",
    "    if cv2.waitKey(10) & 0xFF == ord('v'):\n",
    "        cv2.imwrite(os.path.join('application_data', 'input_image', 'input_image.jpg'), frame)\n",
    "        # roda a verificação\n",
    "        results, verified = verify(siamese_model, 0.5, 0.5)\n",
    "        print(verified)\n",
    "    \n",
    "    if cv2.waitKey(10) & 0xFF == ord('q'):\n",
    "        break\n",
    "cap.release()\n",
    "cv2.destroyAllWindows()"
   ]
  },
  {
   "cell_type": "markdown",
   "source": [
    "Por fim, no capítulo 8 é verificado em tempo real se o modelo consegue predizer adequadamente."
   ],
   "metadata": {
    "collapsed": false
   }
  }
 ],
 "metadata": {
  "kernelspec": {
   "name": "python3",
   "language": "python",
   "display_name": "Python 3 (ipykernel)"
  },
  "language_info": {
   "codemirror_mode": {
    "name": "ipython",
    "version": 3
   },
   "file_extension": ".py",
   "mimetype": "text/x-python",
   "name": "python",
   "nbconvert_exporter": "python",
   "pygments_lexer": "ipython3",
   "version": "3.7.3"
  }
 },
 "nbformat": 4,
 "nbformat_minor": 4
}
